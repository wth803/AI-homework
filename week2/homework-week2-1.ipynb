{
 "cells": [
  {
   "cell_type": "code",
   "execution_count": 2,
   "id": "f391e02f-8775-4b1b-9bff-0f1abc05fd8a",
   "metadata": {},
   "outputs": [],
   "source": [
    "from datasets import load_dataset\n",
    "\n",
    "dataset = load_dataset(\"yelp_review_full\")"
   ]
  },
  {
   "cell_type": "code",
   "execution_count": 4,
   "id": "56ac728c-c888-4acc-ab39-09759cbfd03f",
   "metadata": {},
   "outputs": [
    {
     "data": {
      "text/plain": [
       "DatasetDict({\n",
       "    train: Dataset({\n",
       "        features: ['label', 'text'],\n",
       "        num_rows: 650000\n",
       "    })\n",
       "    test: Dataset({\n",
       "        features: ['label', 'text'],\n",
       "        num_rows: 50000\n",
       "    })\n",
       "})"
      ]
     },
     "execution_count": 4,
     "metadata": {},
     "output_type": "execute_result"
    }
   ],
   "source": [
    "dataset"
   ]
  },
  {
   "cell_type": "code",
   "execution_count": 5,
   "id": "61fe2627-77b8-42b8-83f3-a05ca78c9741",
   "metadata": {},
   "outputs": [
    {
     "data": {
      "text/plain": [
       "{'label': 2,\n",
       " 'text': \"As far as Starbucks go, this is a pretty nice one.  The baristas are friendly and while I was here, a lot of regulars must have come in, because they bantered away with almost everyone.  The bathroom was clean and well maintained and the trash wasn't overflowing in the canisters around the store.  The pastries looked fresh, but I didn't partake.  The noise level was also at a nice working level - not too loud, music just barely audible.\\\\n\\\\nI do wish there was more seating.  It is nice that this location has a counter at the end of the bar for sole workers, but it doesn't replace more tables.  I'm sure this isn't as much of a problem in the summer when there's the space outside.\\\\n\\\\nThere was a treat receipt promo going on, but the barista didn't tell me about it, which I found odd.  Usually when they have promos like that going on, they ask everyone if they want their receipt to come back later in the day to claim whatever the offer is.  Today it was one of their new pastries for $1, I know in the summer they do $2 grande iced drinks with that morning's receipt.\\\\n\\\\nOverall, nice working or socializing environment.  Very friendly and inviting.  It's what I've come to expect from Starbucks, so points for consistency.\"}"
      ]
     },
     "execution_count": 5,
     "metadata": {},
     "output_type": "execute_result"
    }
   ],
   "source": [
    "dataset[\"train\"][111]"
   ]
  },
  {
   "cell_type": "code",
   "execution_count": 6,
   "id": "37226eee-c3cc-471e-bfdd-57c17bf2c478",
   "metadata": {},
   "outputs": [
    {
     "data": {
      "text/html": [
       "<table border=\"1\" class=\"dataframe\">\n",
       "  <thead>\n",
       "    <tr style=\"text-align: right;\">\n",
       "      <th></th>\n",
       "      <th>label</th>\n",
       "      <th>text</th>\n",
       "    </tr>\n",
       "  </thead>\n",
       "  <tbody>\n",
       "    <tr>\n",
       "      <th>0</th>\n",
       "      <td>4 stars</td>\n",
       "      <td>I decided to pretend that I was a well-to-do person with no cares in the world, and I took a sudden, two-day trip to Vegas on a complete whim. Decided at 10:00 am, bought my ticket at 11:00, flew out at 3:00 and by late afternoon I was in Vegas. I met my parents, and made the executive decision to not go see Viva Elvis. Instead, I took the time to look around Aria, Cosmopolitan, etc. and wondered if I could find a good cocktail. I decided on Sage, and after telling myself I wasn't under-dressed, I wandered in and sat at the bar.\\n\\nNow, I personally do not think I am the most beautiful person on the planet, but I have come to the conclusion that I am not bad to look at, at least on my good days. And I was wearing a cute dress, and I put my confident face on. I ordered the \\\"tea rose\\\" (tea infused Hangar One, rose water, st. germain, lemon, and a pine nut garnish) and settled in to wait for Elvis to let out. And then, out of nowhere, lovely businessmen started talking me up and invited me to dinner.\\n\\nBeing a tasteful, respectfully married woman, I had to decline, but honestly the vibe, the menu, and the drinks here had me trying to find any available way to get into said dinner while remaining a respectfully married woman. Sadly, I couldn't come up with any inventive way to do that, so I missed out on dinner. I did, though, get to take in the stylish/romantic/scene-y vibe, and apparently the extremely flattering lighting. Next time I have more time, or my husband in tow, or a relaxed set of morals, I'm taking myself back here and landing myself a dinner to go with my drink.</td>\n",
       "    </tr>\n",
       "    <tr>\n",
       "      <th>1</th>\n",
       "      <td>3 stars</td>\n",
       "      <td>Disclaimer: The drinks are REALLY sweet over here, but the name says it all.\\n\\nDespite the already ultra-sweet and slushy drinks, the beverages also come with different types of candy, like the gummy-type, and the type that will crackle and pop in your mouth. It is an interesting concept, but the drinks are more sweet than they are strong, and after 1 or 2 you may get a headache or stomachache (...or become diabetic) from all that sugar.\\n\\nDrinks worth ordering: Tiffany &amp; Co., made with Raspberry Smirnoff  Vodka, Blue Cara\\u00e7ao and raspberry slush, topped with a Ringpop. Yes, your lips and tongue will stain blue, but who cares? Rock it! My personal favourite drink was the Sushi Cocktail, made with Vodka, Lychee Liquor and lemon slush, served with a pair of chopsticks to pick out the gummy-candies that were swimming at the bottom of the tall glass.\\n\\nThe decor is very funky. The bar is adorned in neon and fluorescent lights. Seats are held up by womanly legs as the stand, which can be very amusing and entertaining when observing someone from the back. And the bathrooms are fascinating - In the girls' bathroom, one can find two toilet seats that are facing each other, for the perfect \\\"let's pee together and gossip\\\" scenario. Meanwhile, cartoons like Betty Boop are playing on the flat screen to keep others entertained while waiting. This bathroom could quite possibly be a woman's dream come true. In the boys' bathroom, not only do they get to relieve themselves, but they get to do so in to large, wide open, red-lipstick lips. Satisfaction guaranteed? I think so.\\n\\nIt is not a bad place per se, it can be fun and part of a great \\\"girls night out,\\\" however there is only so much sugar that I can handle. I would recommend it as more of a short stop since the hype dies out fast.</td>\n",
       "    </tr>\n",
       "    <tr>\n",
       "      <th>2</th>\n",
       "      <td>2 star</td>\n",
       "      <td>This was our first (and last time) going here. We wanted a taco Tuesday. A friend recommended it to us. We sat for at least 15 with nothing. Got our drink order filled. No chips or water for us. Food was just okay. Couldn't order desert cause nobody told our server the kitchen was closed. Too many other places to go than to go through that again...</td>\n",
       "    </tr>\n",
       "    <tr>\n",
       "      <th>3</th>\n",
       "      <td>3 stars</td>\n",
       "      <td>I booked a deal here for two nights for my boyfriend and me. Got a suite for $59/night plus the $25 resort fee. The deal also included $40 at their restaurant, Simon, and 20% off drinks and various other bars at their place\\n\\nPros:\\n- The room for the most part is nicely arranged and put together.\\n- Jacuzzi bath tub that worked!\\n- Three TVs: one in front of the couch/sofa, one in front of the bed, and one by the sink in the bathroom where you could conceivably watch it from the tub\\n- Pretty well stocked kitchenette (kettle, toaster, sponges, etc.), fridge, stove, and little kitchen counter. My boyfriend and I bought alcohol and snacks from a CVS and stored it in the fridge\\nNOTE: if you want cutlery and utensils, you have put in a request by calling the front desk\\n- Housekeeping came while we were out and also washed our used dishes for us\\n- You can press a button for \\\"do not disturb\\\" and for \\\"housekeeping,\\\" which I personally liked better than hanging a worn and tacky DO NOT DISTURB sign on the doorknob\\n- iHome-type thing to plug in your iPod. If you have iPhone 5 and above, you can connect your phone/different iPod and still have music play\\n- Shuttle bus that takes you to the Forum Shops from 12 pm - 8 pm every half hour.  Sort of inconvenient hours, but if you take a taxi back from the same place it runs you only $8 and change. Beware, there is a $3 fee for using your credit card.\\n- Free self-parking\\n\\nCons:\\n- Wear and tear and stains on the walls/furniture. It wasn't very aesthetically pleasing and just made everything feel kind of cheap\\n- The TV in front of our bed didn't work. We called twice to get it fixed. The first time we asked for maintenance, the request was re-routed to another department so the guy didn't come while we were out of the room. Instead he came at night when we were getting ready for bed and it was sort of awkward. He kept saying he didn't have the equipment to fix it, \\\"fixed it,\\\" and when he left it didn't work again. After the second time he told us he'd call another maintenance guy who was more familiar with the upgraded TV equipment to come back in the morning but that never happened.\\n- The morning we left, my boyfriend was experiencing problems with the TV in front of the couch\\n- You can only connect one device to the free WiFi\\n- When I called their reservations line prior to my stay to add a night and also to upgrade the room I'd originally booked, one of the agents I spoke to was rather rude\\n\\nMy boyfriend and I are both broke and unemployed law school graduates right now, so we were fine with what we got considering how much we paid for it.  That being said, the next time we go we'll probably stay at a hotel on the Strip for the convenience, the aesthetics and energy, and the (improved) hospitality.</td>\n",
       "    </tr>\n",
       "    <tr>\n",
       "      <th>4</th>\n",
       "      <td>5 stars</td>\n",
       "      <td>Great food especially the chicken skewers with the lemon garlic sauce and the cornbread. There is live music on the weekends. Also, free kids meals on Sundays and Tuesdays.</td>\n",
       "    </tr>\n",
       "    <tr>\n",
       "      <th>5</th>\n",
       "      <td>5 stars</td>\n",
       "      <td>You gotta check out this place!  Great micro brews and felt like old friends from the moment we walked in.  Ask Mark for a tour and throw back a flight because there are just too many delicious choices. Trust me, you'll barley be able to contain the excitement.  It won't go against your grain and You'll be hoppy you did.  :-)  \\nOh and the gourmet popcorn is a nice touch too.\\nThanks Chris for knowing your beers.</td>\n",
       "    </tr>\n",
       "    <tr>\n",
       "      <th>6</th>\n",
       "      <td>4 stars</td>\n",
       "      <td>Not much going on in Chandler, AZ in terms of great \\\"foodie\\\" restaurants, or I may just not know where to go. Plus I had just flown in and I wanted to take my granddaughter out and have a nice dinner somewhere and Peggy, my granddaughter's other grandmother, referred me to this place. There really isn't anything negative that I have to say about this place. \\n\\nService: Could not have been better. The waitress was very nice and friendly and my granddaughter really liked her. (which is all that matters)\\n\\nFood: Emily loves wings so we ordered the bbq wings as an appetizer. I believe they were half priced at that time. For the entrees, I ordered the \\\"Paradise\\\" burger (I just love pineapple on my burgers) and my granddaughter ordered the chicken tenders. The Paradise burger was cooked exactly as requested and the chicken tenders were, well, tender...Also, got the sweet potato fries which were seasoned to perfection. \\n\\nThe manager came over to check on us and make sure everything was ok. But most of all, my granddaughter loved it and ate all her food and some of mine! \\n\\nThank you Native New Yorker for providing a very nice evening for us. When in town I will need to revisit!</td>\n",
       "    </tr>\n",
       "    <tr>\n",
       "      <th>7</th>\n",
       "      <td>4 stars</td>\n",
       "      <td>This place is amazing!! Can't say enough good things about this restuarant! The set up is nice and the art work is superb! A great place to go have a date night or a quiet family dinner. The food is always fresh, (highly recommended the el pastor quesadilla!!) \\n\\nThe only thing negative per se about this place is the service. They really need another waiter. I give respect to the guy that works there solo, but he's so busy hustling and bustling that it's hard for him to give adequately good service when he's rushing through our orders. We have been there 3 times and each time it is the same, 4 or 5 tables and we end up waiting 20 minutes to get a drink order.\\n\\nI love the atmosphere and food too much to stop going, just hope they hire another waiter in the near future!!\\n\\nDefinitely recommend this place to others!!!</td>\n",
       "    </tr>\n",
       "    <tr>\n",
       "      <th>8</th>\n",
       "      <td>3 stars</td>\n",
       "      <td>Ellis Island offers a very good BBQ Rib dinner at a great price. To get the discounted price make sure to get a players card. Once you validate the card you will receive coupons for food and drink specials. Go for the BB Rib dinner half or full rack. The dinners include BBQ Beans Corn on the Cob, Cole Slaw and Garlic Bread.  Not necessarily the best BBQ but definitely a value meal. The Beans are not very flavorful but the Cole Slaw is very good. Worth a visit if you are near the strip.\\nThe dining room d\\u00e9cor is not the strip ambiance. The d\\u00e9cor, along with the tables and chairs are a little dated and the walk thru the casino a little smoky. This is an old time Las Vegas locals place.</td>\n",
       "    </tr>\n",
       "    <tr>\n",
       "      <th>9</th>\n",
       "      <td>1 star</td>\n",
       "      <td>My husband  and I went in yesterday for some mexican food we both got the chimichunga with rice lunch special. it was alright. we got home and got instantly sick. we go food poisoning from this place i recommend going to aho al's or a different resturant. worst experience ever. Macayos is not as good as i remembered.</td>\n",
       "    </tr>\n",
       "  </tbody>\n",
       "</table>"
      ],
      "text/plain": [
       "<IPython.core.display.HTML object>"
      ]
     },
     "metadata": {},
     "output_type": "display_data"
    }
   ],
   "source": [
    "import random\n",
    "import pandas as pd\n",
    "import datasets\n",
    "from IPython.display import display, HTML\n",
    "\n",
    "def show_random_elements(dataset, num_examples=10):\n",
    "    assert num_examples <= len(dataset), \"Can't pick more elements than there are in the dataset.\"\n",
    "    picks = []\n",
    "    for _ in range(num_examples):\n",
    "        pick = random.randint(0, len(dataset)-1)\n",
    "        while pick in picks:\n",
    "            pick = random.randint(0, len(dataset)-1)\n",
    "        picks.append(pick)\n",
    "    \n",
    "    df = pd.DataFrame(dataset[picks])\n",
    "    for column, typ in dataset.features.items():\n",
    "        if isinstance(typ, datasets.ClassLabel):\n",
    "            df[column] = df[column].transform(lambda i: typ.names[i])\n",
    "    display(HTML(df.to_html()))\n",
    "\n",
    "show_random_elements(dataset[\"train\"])"
   ]
  },
  {
   "cell_type": "code",
   "execution_count": 7,
   "id": "651630ca-d51b-4ad2-ac05-9ca3b952603b",
   "metadata": {},
   "outputs": [
    {
     "name": "stderr",
     "output_type": "stream",
     "text": [
      "/home/pactera/miniconda3/envs/aistudy5/lib/python3.11/site-packages/transformers/utils/generic.py:441: FutureWarning: `torch.utils._pytree._register_pytree_node` is deprecated. Please use `torch.utils._pytree.register_pytree_node` instead.\n",
      "  _torch_pytree._register_pytree_node(\n",
      "/home/pactera/miniconda3/envs/aistudy5/lib/python3.11/site-packages/huggingface_hub/file_download.py:943: FutureWarning: `resume_download` is deprecated and will be removed in version 1.0.0. Downloads always resume when possible. If you want to force a new download, use `force_download=True`.\n",
      "  warnings.warn(\n"
     ]
    },
    {
     "data": {
      "text/html": [
       "<table border=\"1\" class=\"dataframe\">\n",
       "  <thead>\n",
       "    <tr style=\"text-align: right;\">\n",
       "      <th></th>\n",
       "      <th>label</th>\n",
       "      <th>text</th>\n",
       "      <th>input_ids</th>\n",
       "      <th>token_type_ids</th>\n",
       "      <th>attention_mask</th>\n",
       "    </tr>\n",
       "  </thead>\n",
       "  <tbody>\n",
       "    <tr>\n",
       "      <th>0</th>\n",
       "      <td>1 star</td>\n",
       "      <td>I have came here several time and ive come to the conclusion that the manager sucks! I think her names Abigail or Agnus or something. \\n\\n1st time- she tried to charge me a restocking fee when even on the sprint website it says as long as the box is unopened and inactivated no restocking fee will be applied. the after going back and forth she tried to make it seem like she was doing me a favor.. umm its not a favor when its the company policy lady.\\n\\n2nd time- I had to go back because of something that got messed up the first time.. she referred me to the 800 number when in fact the 800 number said I had to go to the store that messed up because they dont have access to installment biling info. Again, she didnt know anything but promised to figure it out all call me asap... never got a call.. \\n\\n3rd time- went back to get the issue resolved and she had no clue and was like oh let me see if I can call someone ill call you whether we can fix it or not... \\n\\nIve called 2x and still waiting on that call...</td>\n",
       "      <td>[101, 146, 1138, 1338, 1303, 1317, 1159, 1105, 178, 2707, 1435, 1106, 1103, 6593, 1115, 1103, 2618, 22797, 106, 146, 1341, 1123, 2666, 17014, 1137, 138, 17653, 1361, 1137, 1380, 119, 165, 183, 165, 183, 1475, 2050, 1159, 118, 1131, 1793, 1106, 2965, 1143, 170, 1832, 5559, 1158, 7216, 1165, 1256, 1113, 1103, 12766, 3265, 1122, 1867, 1112, 1263, 1112, 1103, 2884, 1110, 8362, 15622, 3540, 1105, 22951, 1185, 1832, 5559, 1158, 7216, 1209, 1129, 3666, 119, 1103, 1170, 1280, 1171, 1105, 5275, 1131, 1793, 1106, 1294, 1122, 3166, 1176, 1131, 1108, 1833, 1143, 170, 5010, 119, 119, 15276, 1306, ...]</td>\n",
       "      <td>[0, 0, 0, 0, 0, 0, 0, 0, 0, 0, 0, 0, 0, 0, 0, 0, 0, 0, 0, 0, 0, 0, 0, 0, 0, 0, 0, 0, 0, 0, 0, 0, 0, 0, 0, 0, 0, 0, 0, 0, 0, 0, 0, 0, 0, 0, 0, 0, 0, 0, 0, 0, 0, 0, 0, 0, 0, 0, 0, 0, 0, 0, 0, 0, 0, 0, 0, 0, 0, 0, 0, 0, 0, 0, 0, 0, 0, 0, 0, 0, 0, 0, 0, 0, 0, 0, 0, 0, 0, 0, 0, 0, 0, 0, 0, 0, 0, 0, 0, 0, ...]</td>\n",
       "      <td>[1, 1, 1, 1, 1, 1, 1, 1, 1, 1, 1, 1, 1, 1, 1, 1, 1, 1, 1, 1, 1, 1, 1, 1, 1, 1, 1, 1, 1, 1, 1, 1, 1, 1, 1, 1, 1, 1, 1, 1, 1, 1, 1, 1, 1, 1, 1, 1, 1, 1, 1, 1, 1, 1, 1, 1, 1, 1, 1, 1, 1, 1, 1, 1, 1, 1, 1, 1, 1, 1, 1, 1, 1, 1, 1, 1, 1, 1, 1, 1, 1, 1, 1, 1, 1, 1, 1, 1, 1, 1, 1, 1, 1, 1, 1, 1, 1, 1, 1, 1, ...]</td>\n",
       "    </tr>\n",
       "  </tbody>\n",
       "</table>"
      ],
      "text/plain": [
       "<IPython.core.display.HTML object>"
      ]
     },
     "metadata": {},
     "output_type": "display_data"
    }
   ],
   "source": [
    "from transformers import AutoTokenizer\n",
    "\n",
    "tokenizer = AutoTokenizer.from_pretrained(\"bert-base-cased\")\n",
    "\n",
    "\n",
    "def tokenize_function(examples):\n",
    "    return tokenizer(examples[\"text\"], padding=\"max_length\", truncation=True)\n",
    "\n",
    "\n",
    "tokenized_datasets = dataset.map(tokenize_function, batched=True)\n",
    "\n",
    "show_random_elements(tokenized_datasets[\"train\"], num_examples=1)"
   ]
  },
  {
   "cell_type": "code",
   "execution_count": 8,
   "id": "16bdb476-2a9a-460d-88aa-8e009d4ee684",
   "metadata": {},
   "outputs": [],
   "source": [
    "small_train_dataset = tokenized_datasets[\"train\"].shuffle(seed=42).select(range(1000))\n",
    "small_eval_dataset = tokenized_datasets[\"test\"].shuffle(seed=42).select(range(1000))"
   ]
  },
  {
   "cell_type": "code",
   "execution_count": 11,
   "id": "51dd7195-a9ea-4938-8530-05e9d058306c",
   "metadata": {},
   "outputs": [
    {
     "name": "stderr",
     "output_type": "stream",
     "text": [
      "/home/pactera/miniconda3/envs/aistudy5/lib/python3.11/site-packages/huggingface_hub/file_download.py:943: FutureWarning: `resume_download` is deprecated and will be removed in version 1.0.0. Downloads always resume when possible. If you want to force a new download, use `force_download=True`.\n",
      "  warnings.warn(\n",
      "Some weights of BertForSequenceClassification were not initialized from the model checkpoint at bert-base-cased and are newly initialized: ['classifier.weight', 'classifier.bias']\n",
      "You should probably TRAIN this model on a down-stream task to be able to use it for predictions and inference.\n"
     ]
    }
   ],
   "source": [
    "from transformers import AutoModelForSequenceClassification\n",
    "\n",
    "model = AutoModelForSequenceClassification.from_pretrained(\"bert-base-cased\", num_labels=5)"
   ]
  },
  {
   "cell_type": "code",
   "execution_count": 12,
   "id": "0bbb4c32-8078-4575-bf8e-ef20569f4f3a",
   "metadata": {},
   "outputs": [],
   "source": [
    "from transformers import TrainingArguments\n",
    "\n",
    "model_dir = \"models/bert-base-cased-finetune-yelp\"\n",
    "\n",
    "# logging_steps 默认值为500，根据我们的训练数据和步长，将其设置为100\n",
    "training_args = TrainingArguments(output_dir=model_dir,\n",
    "                                  per_device_train_batch_size=16,\n",
    "                                  num_train_epochs=5,\n",
    "                                  logging_steps=100)"
   ]
  },
  {
   "cell_type": "code",
   "execution_count": 13,
   "id": "1634b09a-e92a-4eef-b3ba-daa45705669b",
   "metadata": {},
   "outputs": [
    {
     "name": "stdout",
     "output_type": "stream",
     "text": [
      "TrainingArguments(\n",
      "_n_gpu=1,\n",
      "adafactor=False,\n",
      "adam_beta1=0.9,\n",
      "adam_beta2=0.999,\n",
      "adam_epsilon=1e-08,\n",
      "auto_find_batch_size=False,\n",
      "bf16=False,\n",
      "bf16_full_eval=False,\n",
      "data_seed=None,\n",
      "dataloader_drop_last=False,\n",
      "dataloader_num_workers=0,\n",
      "dataloader_persistent_workers=False,\n",
      "dataloader_pin_memory=True,\n",
      "ddp_backend=None,\n",
      "ddp_broadcast_buffers=None,\n",
      "ddp_bucket_cap_mb=None,\n",
      "ddp_find_unused_parameters=None,\n",
      "ddp_timeout=1800,\n",
      "debug=[],\n",
      "deepspeed=None,\n",
      "disable_tqdm=False,\n",
      "dispatch_batches=None,\n",
      "do_eval=False,\n",
      "do_predict=False,\n",
      "do_train=False,\n",
      "eval_accumulation_steps=None,\n",
      "eval_delay=0,\n",
      "eval_steps=None,\n",
      "evaluation_strategy=IntervalStrategy.NO,\n",
      "fp16=False,\n",
      "fp16_backend=auto,\n",
      "fp16_full_eval=False,\n",
      "fp16_opt_level=O1,\n",
      "fsdp=[],\n",
      "fsdp_config={'min_num_params': 0, 'xla': False, 'xla_fsdp_grad_ckpt': False},\n",
      "fsdp_min_num_params=0,\n",
      "fsdp_transformer_layer_cls_to_wrap=None,\n",
      "full_determinism=False,\n",
      "gradient_accumulation_steps=1,\n",
      "gradient_checkpointing=False,\n",
      "gradient_checkpointing_kwargs=None,\n",
      "greater_is_better=None,\n",
      "group_by_length=False,\n",
      "half_precision_backend=auto,\n",
      "hub_always_push=False,\n",
      "hub_model_id=None,\n",
      "hub_private_repo=False,\n",
      "hub_strategy=HubStrategy.EVERY_SAVE,\n",
      "hub_token=<HUB_TOKEN>,\n",
      "ignore_data_skip=False,\n",
      "include_inputs_for_metrics=False,\n",
      "include_num_input_tokens_seen=False,\n",
      "include_tokens_per_second=False,\n",
      "jit_mode_eval=False,\n",
      "label_names=None,\n",
      "label_smoothing_factor=0.0,\n",
      "learning_rate=5e-05,\n",
      "length_column_name=length,\n",
      "load_best_model_at_end=False,\n",
      "local_rank=0,\n",
      "log_level=passive,\n",
      "log_level_replica=warning,\n",
      "log_on_each_node=True,\n",
      "logging_dir=models/bert-base-cased-finetune-yelp/runs/Jul30_10-39-34_pactera-Precision-7920-Tower,\n",
      "logging_first_step=False,\n",
      "logging_nan_inf_filter=True,\n",
      "logging_steps=100,\n",
      "logging_strategy=IntervalStrategy.STEPS,\n",
      "lr_scheduler_kwargs={},\n",
      "lr_scheduler_type=SchedulerType.LINEAR,\n",
      "max_grad_norm=1.0,\n",
      "max_steps=-1,\n",
      "metric_for_best_model=None,\n",
      "mp_parameters=,\n",
      "neftune_noise_alpha=None,\n",
      "no_cuda=False,\n",
      "num_train_epochs=5,\n",
      "optim=OptimizerNames.ADAMW_TORCH,\n",
      "optim_args=None,\n",
      "output_dir=models/bert-base-cased-finetune-yelp,\n",
      "overwrite_output_dir=False,\n",
      "past_index=-1,\n",
      "per_device_eval_batch_size=8,\n",
      "per_device_train_batch_size=16,\n",
      "prediction_loss_only=False,\n",
      "push_to_hub=False,\n",
      "push_to_hub_model_id=None,\n",
      "push_to_hub_organization=None,\n",
      "push_to_hub_token=<PUSH_TO_HUB_TOKEN>,\n",
      "ray_scope=last,\n",
      "remove_unused_columns=True,\n",
      "report_to=[],\n",
      "resume_from_checkpoint=None,\n",
      "run_name=models/bert-base-cased-finetune-yelp,\n",
      "save_on_each_node=False,\n",
      "save_only_model=False,\n",
      "save_safetensors=True,\n",
      "save_steps=500,\n",
      "save_strategy=IntervalStrategy.STEPS,\n",
      "save_total_limit=None,\n",
      "seed=42,\n",
      "skip_memory_metrics=True,\n",
      "split_batches=False,\n",
      "tf32=None,\n",
      "torch_compile=False,\n",
      "torch_compile_backend=None,\n",
      "torch_compile_mode=None,\n",
      "torchdynamo=None,\n",
      "tpu_metrics_debug=False,\n",
      "tpu_num_cores=None,\n",
      "use_cpu=False,\n",
      "use_ipex=False,\n",
      "use_legacy_prediction_loop=False,\n",
      "use_mps_device=False,\n",
      "warmup_ratio=0.0,\n",
      "warmup_steps=0,\n",
      "weight_decay=0.0,\n",
      ")\n"
     ]
    }
   ],
   "source": [
    "# 完整的超参数配置\n",
    "print(training_args)"
   ]
  },
  {
   "cell_type": "code",
   "execution_count": 15,
   "id": "0e949cd3-9672-45d9-aa5f-f29f6d7f7887",
   "metadata": {},
   "outputs": [
    {
     "data": {
      "text/html": [
       "\n",
       "    <div>\n",
       "      \n",
       "      <progress value='189' max='189' style='width:300px; height:20px; vertical-align: middle;'></progress>\n",
       "      [189/189 02:28, Epoch 3/3]\n",
       "    </div>\n",
       "    <table border=\"1\" class=\"dataframe\">\n",
       "  <thead>\n",
       " <tr style=\"text-align: left;\">\n",
       "      <th>Epoch</th>\n",
       "      <th>Training Loss</th>\n",
       "      <th>Validation Loss</th>\n",
       "      <th>Accuracy</th>\n",
       "    </tr>\n",
       "  </thead>\n",
       "  <tbody>\n",
       "    <tr>\n",
       "      <td>1</td>\n",
       "      <td>1.230700</td>\n",
       "      <td>1.085061</td>\n",
       "      <td>0.530000</td>\n",
       "    </tr>\n",
       "    <tr>\n",
       "      <td>2</td>\n",
       "      <td>0.928100</td>\n",
       "      <td>0.992480</td>\n",
       "      <td>0.586000</td>\n",
       "    </tr>\n",
       "    <tr>\n",
       "      <td>3</td>\n",
       "      <td>0.569800</td>\n",
       "      <td>1.014207</td>\n",
       "      <td>0.616000</td>\n",
       "    </tr>\n",
       "  </tbody>\n",
       "</table><p>"
      ],
      "text/plain": [
       "<IPython.core.display.HTML object>"
      ]
     },
     "metadata": {},
     "output_type": "display_data"
    },
    {
     "data": {
      "text/plain": [
       "TrainOutput(global_step=189, training_loss=0.9556059812111829, metrics={'train_runtime': 149.7517, 'train_samples_per_second': 20.033, 'train_steps_per_second': 1.262, 'total_flos': 789354427392000.0, 'train_loss': 0.9556059812111829, 'epoch': 3.0})"
      ]
     },
     "execution_count": 15,
     "metadata": {},
     "output_type": "execute_result"
    }
   ],
   "source": [
    "import numpy as np\n",
    "import evaluate\n",
    "\n",
    "metric = evaluate.load(\"accuracy\")\n",
    "\n",
    "def compute_metrics(eval_pred):\n",
    "    logits, labels = eval_pred\n",
    "    predictions = np.argmax(logits, axis=-1)\n",
    "    return metric.compute(predictions=predictions, references=labels)\n",
    "\n",
    "from transformers import TrainingArguments, Trainer\n",
    "\n",
    "training_args = TrainingArguments(output_dir=model_dir,\n",
    "                                  evaluation_strategy=\"epoch\", \n",
    "                                  per_device_train_batch_size=16,\n",
    "                                  num_train_epochs=3,\n",
    "                                  logging_steps=30)\n",
    "\n",
    "trainer = Trainer(\n",
    "    model=model,\n",
    "    args=training_args,\n",
    "    train_dataset=small_train_dataset,\n",
    "    eval_dataset=small_eval_dataset,\n",
    "    compute_metrics=compute_metrics,\n",
    ")\n",
    "\n",
    "trainer.train()"
   ]
  },
  {
   "cell_type": "code",
   "execution_count": 16,
   "id": "1566be0b-7ca0-4655-bab8-dc93f52536df",
   "metadata": {},
   "outputs": [
    {
     "data": {
      "text/html": [
       "\n",
       "    <div>\n",
       "      \n",
       "      <progress value='13' max='13' style='width:300px; height:20px; vertical-align: middle;'></progress>\n",
       "      [13/13 00:01]\n",
       "    </div>\n",
       "    "
      ],
      "text/plain": [
       "<IPython.core.display.HTML object>"
      ]
     },
     "metadata": {},
     "output_type": "display_data"
    },
    {
     "data": {
      "text/plain": [
       "{'eval_loss': 1.0995454788208008,\n",
       " 'eval_accuracy': 0.57,\n",
       " 'eval_runtime': 1.5099,\n",
       " 'eval_samples_per_second': 66.229,\n",
       " 'eval_steps_per_second': 8.61,\n",
       " 'epoch': 3.0}"
      ]
     },
     "execution_count": 16,
     "metadata": {},
     "output_type": "execute_result"
    }
   ],
   "source": [
    "small_test_dataset = tokenized_datasets[\"test\"].shuffle(seed=64).select(range(100))\n",
    "trainer.evaluate(small_test_dataset)"
   ]
  },
  {
   "cell_type": "code",
   "execution_count": 17,
   "id": "32c6493d-ea98-4527-8dc9-cb1702208b5c",
   "metadata": {},
   "outputs": [],
   "source": [
    "#尝试使用更多训练集\n",
    "small_train_dataset = tokenized_datasets[\"train\"].shuffle(seed=42).select(range(10000))\n",
    "small_eval_dataset = tokenized_datasets[\"test\"].shuffle(seed=42).select(range(10000))"
   ]
  },
  {
   "cell_type": "code",
   "execution_count": 18,
   "id": "a754b6e0-19ab-4059-8b3e-ed6d19109267",
   "metadata": {},
   "outputs": [
    {
     "data": {
      "text/html": [
       "\n",
       "    <div>\n",
       "      \n",
       "      <progress value='1875' max='1875' style='width:300px; height:20px; vertical-align: middle;'></progress>\n",
       "      [1875/1875 23:49, Epoch 3/3]\n",
       "    </div>\n",
       "    <table border=\"1\" class=\"dataframe\">\n",
       "  <thead>\n",
       " <tr style=\"text-align: left;\">\n",
       "      <th>Epoch</th>\n",
       "      <th>Training Loss</th>\n",
       "      <th>Validation Loss</th>\n",
       "      <th>Accuracy</th>\n",
       "    </tr>\n",
       "  </thead>\n",
       "  <tbody>\n",
       "    <tr>\n",
       "      <td>1</td>\n",
       "      <td>0.889100</td>\n",
       "      <td>0.995319</td>\n",
       "      <td>0.548200</td>\n",
       "    </tr>\n",
       "    <tr>\n",
       "      <td>2</td>\n",
       "      <td>0.683500</td>\n",
       "      <td>0.963438</td>\n",
       "      <td>0.604400</td>\n",
       "    </tr>\n",
       "    <tr>\n",
       "      <td>3</td>\n",
       "      <td>0.332500</td>\n",
       "      <td>1.214426</td>\n",
       "      <td>0.611500</td>\n",
       "    </tr>\n",
       "  </tbody>\n",
       "</table><p>"
      ],
      "text/plain": [
       "<IPython.core.display.HTML object>"
      ]
     },
     "metadata": {},
     "output_type": "display_data"
    },
    {
     "data": {
      "text/plain": [
       "TrainOutput(global_step=1875, training_loss=0.6844582898457845, metrics={'train_runtime': 1430.0053, 'train_samples_per_second': 20.979, 'train_steps_per_second': 1.311, 'total_flos': 7893544273920000.0, 'train_loss': 0.6844582898457845, 'epoch': 3.0})"
      ]
     },
     "execution_count": 18,
     "metadata": {},
     "output_type": "execute_result"
    }
   ],
   "source": [
    "trainer = Trainer(\n",
    "    model=model,\n",
    "    args=training_args,\n",
    "    train_dataset=small_train_dataset,\n",
    "    eval_dataset=small_eval_dataset,\n",
    "    compute_metrics=compute_metrics,\n",
    ")\n",
    "\n",
    "trainer.train()"
   ]
  },
  {
   "cell_type": "code",
   "execution_count": 19,
   "id": "0a397f08-9003-4e5a-9910-080b122908c6",
   "metadata": {},
   "outputs": [
    {
     "data": {
      "text/html": [
       "\n",
       "    <div>\n",
       "      \n",
       "      <progress value='13' max='13' style='width:300px; height:20px; vertical-align: middle;'></progress>\n",
       "      [13/13 00:01]\n",
       "    </div>\n",
       "    "
      ],
      "text/plain": [
       "<IPython.core.display.HTML object>"
      ]
     },
     "metadata": {},
     "output_type": "display_data"
    },
    {
     "data": {
      "text/plain": [
       "{'eval_loss': 1.4493893384933472,\n",
       " 'eval_accuracy': 0.53,\n",
       " 'eval_runtime': 1.2379,\n",
       " 'eval_samples_per_second': 80.783,\n",
       " 'eval_steps_per_second': 10.502,\n",
       " 'epoch': 3.0}"
      ]
     },
     "execution_count": 19,
     "metadata": {},
     "output_type": "execute_result"
    }
   ],
   "source": [
    "small_test_dataset = tokenized_datasets[\"test\"].shuffle(seed=64).select(range(100))\n",
    "trainer.evaluate(small_test_dataset)"
   ]
  },
  {
   "cell_type": "code",
   "execution_count": null,
   "id": "25b7eb3c-b44b-46d5-a2c4-b19a0e7834d8",
   "metadata": {},
   "outputs": [],
   "source": [
    "#增加了训练数量，acc没有升高??"
   ]
  }
 ],
 "metadata": {
  "kernelspec": {
   "display_name": "Python 3 (ipykernel)",
   "language": "python",
   "name": "python3"
  },
  "language_info": {
   "codemirror_mode": {
    "name": "ipython",
    "version": 3
   },
   "file_extension": ".py",
   "mimetype": "text/x-python",
   "name": "python",
   "nbconvert_exporter": "python",
   "pygments_lexer": "ipython3",
   "version": "3.11.13"
  }
 },
 "nbformat": 4,
 "nbformat_minor": 5
}
